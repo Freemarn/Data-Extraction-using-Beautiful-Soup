{
 "cells": [
  {
   "cell_type": "markdown",
   "metadata": {},
   "source": [
    "## OPENING A URL FROM PYTHON"
   ]
  },
  {
   "cell_type": "code",
   "execution_count": 11,
   "metadata": {},
   "outputs": [],
   "source": [
    "from urllib import request"
   ]
  },
  {
   "cell_type": "code",
   "execution_count": 5,
   "metadata": {},
   "outputs": [],
   "source": [
    "url = \"https://www.apple.com/\""
   ]
  },
  {
   "cell_type": "code",
   "execution_count": 6,
   "metadata": {},
   "outputs": [],
   "source": [
    "viewSite = request.urlopen(url)"
   ]
  },
  {
   "cell_type": "code",
   "execution_count": 7,
   "metadata": {},
   "outputs": [],
   "source": [
    "status = viewSite.code"
   ]
  },
  {
   "cell_type": "code",
   "execution_count": 10,
   "metadata": {},
   "outputs": [
    {
     "name": "stdout",
     "output_type": "stream",
     "text": [
      "<class 'http.client.HTTPResponse'>\n",
      "200\n"
     ]
    }
   ],
   "source": [
    "print(type(viewSite))\n",
    "print(status)"
   ]
  },
  {
   "cell_type": "markdown",
   "metadata": {},
   "source": [
    "## WEB SCRAPPING"
   ]
  },
  {
   "cell_type": "code",
   "execution_count": 2,
   "metadata": {},
   "outputs": [],
   "source": [
    "from urllib import request\n",
    "from bs4 import BeautifulSoup"
   ]
  },
  {
   "cell_type": "code",
   "execution_count": 4,
   "metadata": {},
   "outputs": [],
   "source": [
    "page_url = \"https://www.apple.com/\"\n",
    "viewpage = request.urlopen(page_url)"
   ]
  },
  {
   "cell_type": "code",
   "execution_count": 10,
   "metadata": {},
   "outputs": [],
   "source": [
    "#create beautiful soup object\n",
    "soup = BeautifulSoup(viewpage, \"html5lib\")"
   ]
  },
  {
   "cell_type": "code",
   "execution_count": 21,
   "metadata": {},
   "outputs": [],
   "source": [
    "content = soup.article\n",
    "result = soup.find_all"
   ]
  },
  {
   "cell_type": "code",
   "execution_count": 12,
   "metadata": {},
   "outputs": [],
   "source": [
    "#create an empty list to save all anchor tags\n",
    "links_list = []"
   ]
  },
  {
   "cell_type": "code",
   "execution_count": 28,
   "metadata": {},
   "outputs": [],
   "source": [
    "for link in result(\"a\"):\n",
    "    #try to get the href, url, img\n",
    "    try:\n",
    "        url = links.get(\"href\")\n",
    "        img = links.img.get(\"src\")\n",
    "        text = links.span.text\n",
    "        links_list.append({\"url\" : url, \"img\" : img, \"text\" : text})\n",
    "    except AttributeError:\n",
    "        #skip it dont blow up\n",
    "        pass\n",
    "    "
   ]
  },
  {
   "cell_type": "markdown",
   "metadata": {},
   "source": [
    "## SAVING SCRAPED DATA TO A JSON FILE"
   ]
  },
  {
   "cell_type": "code",
   "execution_count": 31,
   "metadata": {},
   "outputs": [],
   "source": [
    "import json\n",
    "with open(\"links.json\", \"w\", encoding = \"utf-8\") as links_file:\n",
    "    json.dump(links_list, links_file, ensure_ascii = \"false\")\n",
    "    \n",
    "#WHEN THE SCRAPPED DATA IS VIEWED, IT APPEARS AS ONE LINE OF CODE, But jsonformatter.org is used to make the code readable"
   ]
  },
  {
   "cell_type": "markdown",
   "metadata": {},
   "source": [
    "## SAVING SCRAPED DATA TO A CSV FILE"
   ]
  },
  {
   "cell_type": "code",
   "execution_count": 32,
   "metadata": {},
   "outputs": [
    {
     "name": "stdout",
     "output_type": "stream",
     "text": [
      "Done\n"
     ]
    }
   ],
   "source": [
    "import csv\n",
    "with open(\"links.csv\", \"w\", newline = \"\") as csv_out:\n",
    "    csv_writer = csv.writer(csv_out)\n",
    "    csv_writer.writerow([\"url\", \"img\", \"text\"])\n",
    "    for row in links_list:\n",
    "        csv_writer.writerow([str(row[\"url\"]), str(row[\"img\"]), str(row[\"text\"])])\n",
    "print(\"Done\")"
   ]
  },
  {
   "cell_type": "code",
   "execution_count": null,
   "metadata": {},
   "outputs": [],
   "source": []
  }
 ],
 "metadata": {
  "kernelspec": {
   "display_name": "Python 3",
   "language": "python",
   "name": "python3"
  },
  "language_info": {
   "codemirror_mode": {
    "name": "ipython",
    "version": 3
   },
   "file_extension": ".py",
   "mimetype": "text/x-python",
   "name": "python",
   "nbconvert_exporter": "python",
   "pygments_lexer": "ipython3",
   "version": "3.7.3"
  }
 },
 "nbformat": 4,
 "nbformat_minor": 4
}
